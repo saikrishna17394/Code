{
 "cells": [
  {
   "cell_type": "code",
   "execution_count": 3,
   "metadata": {
    "collapsed": false
   },
   "outputs": [],
   "source": [
    "import sys\n",
    "import requests\n",
    "import subprocess\n",
    "from lxml import html\n",
    "from lxml import etree\n"
   ]
  },
  {
   "cell_type": "code",
   "execution_count": 4,
   "metadata": {
    "collapsed": false
   },
   "outputs": [
    {
     "name": "stdout",
     "output_type": "stream",
     "text": [
      "-> Response Code = 200\n"
     ]
    },
    {
     "ename": "FileNotFoundError",
     "evalue": "[Errno 2] No such file or directory: '746/tests/a_num_samples'",
     "output_type": "error",
     "traceback": [
      "\u001b[1;31m---------------------------------------------------------------------------\u001b[0m",
      "\u001b[1;31mFileNotFoundError\u001b[0m                         Traceback (most recent call last)",
      "\u001b[1;32m<ipython-input-4-4f0cc998f355>\u001b[0m in \u001b[0;36m<module>\u001b[1;34m()\u001b[0m\n\u001b[0;32m     33\u001b[0m \u001b[1;33m\u001b[0m\u001b[0m\n\u001b[0;32m     34\u001b[0m \u001b[0mnum_samples\u001b[0m \u001b[1;33m=\u001b[0m \u001b[0mlen\u001b[0m\u001b[1;33m(\u001b[0m\u001b[0mnode\u001b[0m\u001b[1;33m.\u001b[0m\u001b[0mgetchildren\u001b[0m\u001b[1;33m(\u001b[0m\u001b[1;33m)\u001b[0m\u001b[1;33m)\u001b[0m\u001b[1;33m/\u001b[0m\u001b[1;36m2\u001b[0m\u001b[1;33m\u001b[0m\u001b[0m\n\u001b[1;32m---> 35\u001b[1;33m \u001b[0mf\u001b[0m \u001b[1;33m=\u001b[0m \u001b[0mopen\u001b[0m\u001b[1;33m(\u001b[0m\u001b[1;33m(\u001b[0m\u001b[0mcontest_id\u001b[0m\u001b[1;33m+\u001b[0m\u001b[1;34m'/tests/'\u001b[0m\u001b[1;33m+\u001b[0m\u001b[0mtask_id\u001b[0m\u001b[1;33m+\u001b[0m\u001b[1;34m'_num_samples'\u001b[0m\u001b[1;33m)\u001b[0m\u001b[1;33m,\u001b[0m\u001b[1;34m'w'\u001b[0m\u001b[1;33m)\u001b[0m\u001b[1;33m\u001b[0m\u001b[0m\n\u001b[0m\u001b[0;32m     36\u001b[0m \u001b[0mf\u001b[0m\u001b[1;33m.\u001b[0m\u001b[0mwrite\u001b[0m\u001b[1;33m(\u001b[0m\u001b[0mstr\u001b[0m\u001b[1;33m(\u001b[0m\u001b[0mnum_samples\u001b[0m\u001b[1;33m)\u001b[0m\u001b[1;33m)\u001b[0m\u001b[1;33m\u001b[0m\u001b[0m\n\u001b[0;32m     37\u001b[0m \u001b[1;33m\u001b[0m\u001b[0m\n",
      "\u001b[1;31mFileNotFoundError\u001b[0m: [Errno 2] No such file or directory: '746/tests/a_num_samples'"
     ]
    }
   ],
   "source": [
    "contest_id = '746'\n",
    "\n",
    "task_id  = 'a'\n",
    "task_url = \"http://codeforces.com/contest/\" +contest_id+\"/problem/\"+task_id\n",
    "\n",
    "response = requests.get(task_url)\n",
    "if response.status_code != 200:\n",
    "\tprint(\"Fetching Failed\")\n",
    "\tsys.exit()\n",
    "\n",
    "print(\"-> Response Code = \"+str(response.status_code))\n",
    "html_content = html.document_fromstring(response.text)\n",
    "node = html_content.find_class(\"sample-test\")[0]\n",
    "\n",
    "def filter_node(node,in_or_out):\n",
    "\tnode = node.getchildren()[1]\n",
    "\tprint(type(node))\n",
    "\tprint(node)\n",
    "\t# node = html.unescape(node)\n",
    "\tnode = etree.tostring(node, pretty_print=True)\n",
    "\tprint(type(node))\n",
    "\tprint(node)\n",
    "\tnode = node.replace(\"<pre>\",\"\")\n",
    "\tnode = node.replace(\"</pre>\",\"\")\n",
    "\tnode = node.replace(\"<br/>\",\"\\n\")\n",
    "\t# print node\n",
    "\tfilename = contest_id+'/tests/'+task_id+'_'+in_or_out+'_'+str(test_id) \n",
    "# \tf = open(filename,'w')\n",
    "# \tf.write(node)\n",
    "# \tf.close()\n",
    "\t# print filename\n",
    "# \tsubprocess.call(\"sed -i '/^$/d' \"+filename,shell=True)\n",
    "\n",
    "num_samples = len(node.getchildren())/2\n",
    "# f = open((contest_id+'/tests/'+task_id+'_num_samples'),'w')\n",
    "# f.write(str(num_samples))\n",
    "\n",
    "for test_id in range(int(num_samples)):\n",
    "\ttest_input  = node[test_id*2]\n",
    "\ttest_input = filter_node(test_input,'in')\n",
    "\ttest_output = node[test_id*2+1]\n",
    "\ttest_output = filter_node(test_output,'out')\n"
   ]
  },
  {
   "cell_type": "code",
   "execution_count": null,
   "metadata": {
    "collapsed": true
   },
   "outputs": [],
   "source": []
  }
 ],
 "metadata": {
  "anaconda-cloud": {},
  "kernelspec": {
   "display_name": "Python [Root]",
   "language": "python",
   "name": "Python [Root]"
  },
  "language_info": {
   "codemirror_mode": {
    "name": "ipython",
    "version": 3
   },
   "file_extension": ".py",
   "mimetype": "text/x-python",
   "name": "python",
   "nbconvert_exporter": "python",
   "pygments_lexer": "ipython3",
   "version": "3.5.2"
  }
 },
 "nbformat": 4,
 "nbformat_minor": 0
}
